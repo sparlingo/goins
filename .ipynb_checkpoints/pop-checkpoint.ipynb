{
 "cells": [
  {
   "cell_type": "raw",
   "metadata": {},
   "source": [
    "---\n",
    "title: All-Time Jays seanons in POP\n",
    "description: Blue Jays POP\n",
    "author: Kevin Sparling\n",
    "show-code: False\n",
    "show-prompt: False\n",
    "params:\n",
    "    outfs:\n",
    "        input: checkbox\n",
    "        label: Outfielders\n",
    "        value: True\n",
    "    infs:\n",
    "        input: checkbox\n",
    "        label: Infielders\n",
    "        value: True\n",
    "    year:\n",
    "        input: range\n",
    "        label: Years\n",
    "        value: [1977, 2021]\n",
    "        min: 1977\n",
    "        max: 2021\n",
    "---"
   ]
  },
  {
   "cell_type": "code",
   "execution_count": null,
   "metadata": {},
   "outputs": [],
   "source": [
    "import pandas as pd\n",
    "import matplotlib.pyplot as plt\n",
    "df = pd.read_csv(\"data/core/Batting.csv\")"
   ]
  },
  {
   "cell_type": "code",
   "execution_count": null,
   "metadata": {},
   "outputs": [],
   "source": [
    "outfs = True\n",
    "infs = True\n",
    "year = [1977, 2021]"
   ]
  }
 ],
 "metadata": {
  "interpreter": {
   "hash": "ac59ebe37160ed0dfa835113d9b8498d9f09ceb179beaac4002f036b9467c963"
  },
  "kernelspec": {
   "display_name": "Python 3 (ipykernel)",
   "language": "python",
   "name": "python3"
  },
  "language_info": {
   "codemirror_mode": {
    "name": "ipython",
    "version": 3
   },
   "file_extension": ".py",
   "mimetype": "text/x-python",
   "name": "python",
   "nbconvert_exporter": "python",
   "pygments_lexer": "ipython3",
   "version": "3.9.9"
  }
 },
 "nbformat": 4,
 "nbformat_minor": 2
}

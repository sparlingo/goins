{
 "cells": [
  {
   "cell_type": "raw",
   "metadata": {},
   "source": [
    "---\n",
    "title: Best All-Time Jays Offensive Seasons\n",
    "description: Blue Jays POP\n",
    "author: Kevin Sparling\n",
    "show-code: False\n",
    "show-prompt: False\n",
    "params:\n",
    "    ops:\n",
    "        input: checkbox\n",
    "        label: OPS\n",
    "        value: True\n",
    "    tb:\n",
    "        input: checkbox\n",
    "        label: Total bases\n",
    "        value: False\n",
    "    heq:\n",
    "        input: checkbox\n",
    "        label: Hoban Effectiveness\n",
    "        value: False\n",
    "    totalA:\n",
    "        input: checkbox\n",
    "        label: Total Average\n",
    "        value: False\n",
    "    year:\n",
    "        input: range\n",
    "        label: Years\n",
    "        value: [1977, 2021]\n",
    "        min: 1977\n",
    "        max: 2021\n",
    "---"
   ]
  },
  {
   "cell_type": "code",
   "execution_count": 25,
   "metadata": {},
   "outputs": [
    {
     "name": "stdout",
     "output_type": "stream",
     "text": [
      "<class 'pandas.core.frame.DataFrame'>\n",
      "RangeIndex: 151 entries, 0 to 150\n",
      "Data columns (total 14 columns):\n",
      " #   Column     Non-Null Count  Dtype  \n",
      "---  ------     --------------  -----  \n",
      " 0   Season     151 non-null    int64  \n",
      " 1   wOBA       151 non-null    float64\n",
      " 2   wOBAScale  151 non-null    float64\n",
      " 3   wBB        151 non-null    float64\n",
      " 4   wHBP       151 non-null    float64\n",
      " 5   w1B        151 non-null    float64\n",
      " 6   w2B        151 non-null    float64\n",
      " 7   w3B        151 non-null    float64\n",
      " 8   wHR        151 non-null    float64\n",
      " 9   runSB      151 non-null    float64\n",
      " 10  runCS      151 non-null    float64\n",
      " 11  R/PA       151 non-null    float64\n",
      " 12  R/W        151 non-null    float64\n",
      " 13  cFIP       151 non-null    float64\n",
      "dtypes: float64(13), int64(1)\n",
      "memory usage: 16.6 KB\n",
      "0      False\n",
      "1      False\n",
      "2      False\n",
      "3       True\n",
      "4      False\n",
      "       ...  \n",
      "146    False\n",
      "147    False\n",
      "148    False\n",
      "149    False\n",
      "150    False\n",
      "Name: Season, Length: 151, dtype: bool\n"
     ]
    }
   ],
   "source": [
    "import pandas as pd\n",
    "import matplotlib.pyplot as plt\n",
    "df = pd.read_csv(\"data/core/Batting.csv\")"
   ]
  },
  {
   "cell_type": "code",
   "execution_count": 57,
   "metadata": {},
   "outputs": [],
   "source": [
    "ops = True\n",
    "tb = False\n",
    "heq = False\n",
    "totalA = False\n",
    "year = [1977, 2021]"
   ]
  },
  {
   "cell_type": "code",
   "execution_count": 58,
   "metadata": {},
   "outputs": [],
   "source": [
    "df[\"BA\"] = (df[\"H\"] / df[\"AB\"])\n",
    "df[\"OBP\"] = (df.H + df.BB + df.IBB)/(df.AB + df.BB + df.HBP + df.SF)\n",
    "df[\"SLG\"] = ((df[\"H\"]-df[\"2B\"]-df[\"3B\"]-df[\"HR\"]) + (df[\"2B\"] * 2) + (df[\"3B\"] * 3) + (df[\"HR\"] * 4))/(df[\"AB\"])\n",
    "df[\"OPS\"] = df[\"OBP\"] + df[\"SLG\"]\n",
    "df[\"TB\"] = df[\"H\"] + df[\"2B\"] + (df[\"3B\"] * 2) + (df[\"HR\"] * 3)\n",
    "df[\"HEQ\"] = df[\"TB\"] + df[\"R\"] + df[\"RBI\"] + df[\"SB\"] + (df[\"BB\"] * 0.5)\n",
    "df[\"totalA\"] = (df[\"TB\"] + df[\"BB\"] + df[\"HBP\"] + df[\"SB\"])/(df[\"AB\"] - df[\"H\"] + df[\"SH\"] + df[\"SF\"] + df[\"CS\"] + df[\"GIDP\"])"
   ]
  },
  {
   "cell_type": "code",
   "execution_count": 59,
   "metadata": {},
   "outputs": [],
   "source": [
    "allJaysSeasons = df[(df[\"teamID\"] == \"TOR\") & (df[\"AB\"] > 100)]"
   ]
  },
  {
   "cell_type": "code",
   "execution_count": 60,
   "metadata": {},
   "outputs": [
    {
     "data": {
      "image/png": "[encoded data removed]",
      "text/plain": [
       "<Figure size 432x288 with 1 Axes>"
      ]
     },
     "metadata": {
      "needs_background": "light"
     },
     "output_type": "display_data"
    }
   ],
   "source": [
    "if (ops == True):\n",
    "    allJaysSeasons[\"OPS\"].plot(kind=\"hist\", bins=50, title=\"OPS\")"
   ]
  },
  {
   "cell_type": "code",
   "execution_count": 61,
   "metadata": {},
   "outputs": [],
   "source": [
    "if (tb == True):\n",
    "    allJaysSeasons[\"TB\"].plot(kind=\"hist\", bins=50, title=\"Total Bases\")"
   ]
  },
  {
   "cell_type": "code",
   "execution_count": 62,
   "metadata": {},
   "outputs": [],
   "source": [
    "if (heq == True):\n",
    "    allJaysSeasons[\"HEQ\"].plot(kind=\"hist\", bins=50, title=\"Hoban Effectiveness\")"
   ]
  },
  {
   "cell_type": "code",
   "execution_count": 63,
   "metadata": {},
   "outputs": [],
   "source": [
    "if (totalA == True):\n",
    "    allJaysSeasons[\"totalA\"].plot(kind=\"hist\", bins=50, title=\"Total Average\")"
   ]
  }
 ],
 "metadata": {
  "interpreter": {
   "hash": "ac59ebe37160ed0dfa835113d9b8498d9f09ceb179beaac4002f036b9467c963"
  },
  "kernelspec": {
   "display_name": "Python 3 (ipykernel)",
   "language": "python",
   "name": "python3"
  },
  "language_info": {
   "codemirror_mode": {
    "name": "ipython",
    "version": 3
   },
   "file_extension": ".py",
   "mimetype": "text/x-python",
   "name": "python",
   "nbconvert_exporter": "python",
   "pygments_lexer": "ipython3",
   "version": "3.9.9"
  }
 },
 "nbformat": 4,
 "nbformat_minor": 2
}

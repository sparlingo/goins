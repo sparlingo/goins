{
 "cells": [
  {
   "cell_type": "raw",
   "metadata": {},
   "source": [
    "---\n",
    "title: Greatest Blue Jays offensive seasons\n",
    "description: Who raked?\n",
    "author: Kevin Sparling\n",
    "show-code: False\n",
    "show-prompt: False\n",
    "params:\n",
    "    player:\n",
    "        input: select\n",
    "        label: Player\n",
    "        multi: False\n",
    "        value: [Josh Donaldson, Jose Bautista, John Olerud, Carlos Delgado]\n",
    "    years:\n",
    "        label: Year(s)\n",
    "        input: range\n",
    "        value: [1985, 2021]\n",
    "        min: 1985\n",
    "        max: 2021\n",
    "        \n",
    "---"
   ]
  },
  {
   "cell_type": "code",
   "execution_count": 1,
   "metadata": {},
   "outputs": [],
   "source": [
    "player = \"Josh Donaldson\"\n",
    "years = [2015, 2017]"
   ]
  },
  {
   "cell_type": "code",
   "execution_count": 2,
   "metadata": {},
   "outputs": [],
   "source": [
    "import pandas as pd\n",
    "import matplotlib.pyplot as plt"
   ]
  },
  {
   "cell_type": "code",
   "execution_count": 3,
   "metadata": {},
   "outputs": [],
   "source": [
    "allSeasons = pd.read_csv(\"data/fangraphs/seasons.csv\")\n",
    "#allSeasons.info()\n",
    "\n",
    "allPlayers = pd.read_csv(\"data/core/Batting.csv\")\n",
    "#allPlayers.info()"
   ]
  },
  {
   "cell_type": "code",
   "execution_count": 4,
   "metadata": {},
   "outputs": [],
   "source": [
    "def getPlayer(player):\n",
    "    thisPlayer = allPlayers[allPlayers[\"playerID\"] == player]\n",
    "    return thisPlayer\n",
    "\n",
    "def wOBA(BB, HBP, H, doubles, triples, HR, AB, IBB, SF, season):\n",
    "    thisSeason = allSeasons[allSeasons[\"season\"] == season]\n",
    "    aBB = BB * thisSeason[\"wBB\"]\n",
    "    aHBP = HBP * thisSeason[\"wHBP\"]\n",
    "    aH = (H-doubles-triples-HR) * thisSeason[\"w1B\"]\n",
    "    a2B = doubles * thisSeason[\"w2B\"]\n",
    "    a3B = triples * thisSeason[\"w3B\"]\n",
    "    aHR = HR * thisSeason[\"wHR\"]\n",
    "    return ((aBB + aHBP + aH + a2B + a3B + aHR)/(AB + BB - IBB + SF + HBP))"
   ]
  },
  {
   "cell_type": "markdown",
   "metadata": {},
   "source": [
    "It's obvious to anyone who watched the Jays of the mid-2010s that Josh Donaldson simply raked in 2015. He has an MVP award to show for it, and the eye-test "
   ]
  },
  {
   "cell_type": "code",
   "execution_count": 7,
   "metadata": {},
   "outputs": [
    {
     "data": {
      "text/plain": [
       "[<matplotlib.lines.Line2D at 0x20b6bf428e0>]"
      ]
     },
     "execution_count": 7,
     "metadata": {},
     "output_type": "execute_result"
    },
    {
     "data": {
      "image/png": "[encoded data removed]",
      "text/plain": [
       "<Figure size 432x288 with 1 Axes>"
      ]
     },
     "metadata": {
      "needs_background": "light"
     },
     "output_type": "display_data"
    }
   ],
   "source": [
    "josh = getPlayer(\"donaljo02\")\n",
    "ys = josh[josh[\"season\"] == 2015].squeeze()\n",
    "#ys.info()\n",
    "doubles = ys[\"2B\"]\n",
    "triples = ys[\"3B\"]\n",
    "\n",
    "joshwoba = wOBA(ys.BB, ys.HBP, ys.H, doubles, triples, ys.HR, ys.AB, ys.IBB, ys.SF, ys.season)\n",
    "plt.plot(joshwoba)\n"
   ]
  }
 ],
 "metadata": {
  "interpreter": {
   "hash": "ac59ebe37160ed0dfa835113d9b8498d9f09ceb179beaac4002f036b9467c963"
  },
  "kernelspec": {
   "display_name": "Python 3 (ipykernel)",
   "language": "python",
   "name": "python3"
  },
  "language_info": {
   "codemirror_mode": {
    "name": "ipython",
    "version": 3
   },
   "file_extension": ".py",
   "mimetype": "text/x-python",
   "name": "python",
   "nbconvert_exporter": "python",
   "pygments_lexer": "ipython3",
   "version": "3.9.9"
  }
 },
 "nbformat": 4,
 "nbformat_minor": 2
}
